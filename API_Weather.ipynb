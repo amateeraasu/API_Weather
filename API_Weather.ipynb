{
 "cells": [
  {
   "cell_type": "code",
   "execution_count": 1,
   "id": "b64a08f2",
   "metadata": {},
   "outputs": [],
   "source": [
    "import requests\n"
   ]
  },
  {
   "cell_type": "code",
   "execution_count": 2,
   "id": "113690ac",
   "metadata": {},
   "outputs": [],
   "source": [
    "def get_weather(city, state_code, country_code):\n",
    "    api_key = \"---\"\n",
    "    url = f\"https://api.openweathermap.org/data/2.5/weather?q={city},{state_code},{country_code}&appid={api_key}&units=metric\"\n",
    "    \n",
    " #   print(\"Requesting:\", url)\n",
    "    \n",
    "    response = requests.get(url)\n",
    "    data = response.json()\n",
    "    \n",
    "    if response.status_code == 200:\n",
    "#        print(data)\n",
    "        temp = data['main']['temp']\n",
    "        description = data ['weather'][0]['description']\n",
    "        print(f\"Weather in {city}: {description}, {temp}C\")\n",
    "#         print(\"name is \" + name)\n",
    "#         print(f\"name is {name}\")\n",
    "\n",
    "    else:\n",
    "        print(f\"Error: {data['message']}\")\n",
    "        \n",
    "        \n",
    "\n",
    "        "
   ]
  },
  {
   "cell_type": "code",
   "execution_count": 3,
   "id": "3b299a63",
   "metadata": {
    "scrolled": true
   },
   "outputs": [
    {
     "name": "stdout",
     "output_type": "stream",
     "text": [
      "Enter a city : Middletown\n"
     ]
    }
   ],
   "source": [
    "city_name = input(\"Enter a city : \")"
   ]
  },
  {
   "cell_type": "code",
   "execution_count": 4,
   "id": "da35565b",
   "metadata": {},
   "outputs": [
    {
     "name": "stdout",
     "output_type": "stream",
     "text": [
      "Enter a Country Code : US\n"
     ]
    }
   ],
   "source": [
    "country_code = input(\"Enter a Country Code : \")"
   ]
  },
  {
   "cell_type": "code",
   "execution_count": 5,
   "id": "30d273c6",
   "metadata": {},
   "outputs": [
    {
     "name": "stdout",
     "output_type": "stream",
     "text": [
      "Enter a State Code : CT\n"
     ]
    }
   ],
   "source": [
    "state_code = input(\"Enter a State Code : \")"
   ]
  },
  {
   "cell_type": "code",
   "execution_count": 6,
   "id": "5a0c71d8",
   "metadata": {},
   "outputs": [
    {
     "name": "stdout",
     "output_type": "stream",
     "text": [
      "Requesting: https://api.openweathermap.org/data/2.5/weather?q=Middletown,CT,US&appid=3323ae36d44a41c1dc31c7a8b05812c7&units=metric\n",
      "{'coord': {'lon': -72.6507, 'lat': 41.5623}, 'weather': [{'id': 800, 'main': 'Clear', 'description': 'clear sky', 'icon': '01n'}], 'base': 'stations', 'main': {'temp': 14.51, 'feels_like': 13.53, 'temp_min': 13.09, 'temp_max': 16.09, 'pressure': 1023, 'humidity': 58, 'sea_level': 1023, 'grnd_level': 1014}, 'visibility': 10000, 'wind': {'speed': 0.89, 'deg': 119, 'gust': 1.34}, 'clouds': {'all': 0}, 'dt': 1745460805, 'sys': {'type': 2, 'id': 2091689, 'country': 'US', 'sunrise': 1745402285, 'sunset': 1745451558}, 'timezone': -14400, 'id': 4838633, 'name': 'Middletown', 'cod': 200}\n",
      "Weather in Middletown: clear sky, 14.51C\n"
     ]
    }
   ],
   "source": [
    "get_weather(city_name, state_code, country_code)"
   ]
  },
  {
   "cell_type": "code",
   "execution_count": null,
   "id": "c8fa3f95",
   "metadata": {},
   "outputs": [],
   "source": []
  },
  {
   "cell_type": "code",
   "execution_count": null,
   "id": "3fa79170",
   "metadata": {},
   "outputs": [],
   "source": []
  }
 ],
 "metadata": {
  "kernelspec": {
   "display_name": "Python 3 (ipykernel)",
   "language": "python",
   "name": "python3"
  },
  "language_info": {
   "codemirror_mode": {
    "name": "ipython",
    "version": 3
   },
   "file_extension": ".py",
   "mimetype": "text/x-python",
   "name": "python",
   "nbconvert_exporter": "python",
   "pygments_lexer": "ipython3",
   "version": "3.9.12"
  }
 },
 "nbformat": 4,
 "nbformat_minor": 5
}
